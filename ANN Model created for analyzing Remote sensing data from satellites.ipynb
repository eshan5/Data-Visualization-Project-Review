{
 "cells": [
  {
   "cell_type": "markdown",
   "metadata": {},
   "source": [
    "# Environment Setup"
   ]
  },
  {
   "cell_type": "code",
   "execution_count": 1,
   "metadata": {},
   "outputs": [],
   "source": [
    "import seaborn as sns\n",
    "import matplotlib.pyplot as plt\n",
    "from sklearn.preprocessing import StandardScaler, MinMaxScaler, Normalizer\n",
    "from sklearn.model_selection import train_test_split\n",
    "from sklearn.model_selection import cross_val_score\n",
    "from keras.layers import Dense, Dropout\n",
    "from tensorflow.keras.optimizers import SGD, Adam\n",
    "from keras.models import Sequential\n",
    "from collections import Counter\n",
    "from scipy import stats"
   ]
  },
  {
   "cell_type": "code",
   "execution_count": 2,
   "metadata": {
    "_cell_guid": "b1076dfc-b9ad-4769-8c92-a6c4dae69d19",
    "_uuid": "8f2839f25d086af736a60e9eeb907d3b93b6e0e5"
   },
   "outputs": [],
   "source": [
    "\n",
    "import numpy as np # linear algebra\n",
    "import pandas as pd # data processing, CSV file I/O (e.g. pd.read_csv)\n",
    "\n",
    "# Input data files are available in the read-only \"../input/\" directory\n",
    "# For example, running this (by clicking run or pressing Shift+Enter) will list all files under the input directory\n",
    "\n",
    "import os\n",
    "for dirname, _, filenames in os.walk('/kaggle/input'):\n",
    "    for filename in filenames:\n",
    "        print(os.path.join(dirname, filename))\n",
    "\n",
    "# You can write up to 5GB to the current directory (/kaggle/working/) that gets preserved as output when you create a version using \"Save & Run All\" \n",
    "# You can also write temporary files to /kaggle/temp/, but they won't be saved outside of the current session"
   ]
  },
  {
   "cell_type": "markdown",
   "metadata": {},
   "source": [
    "# Data read, Data Pre-processing, feature Engineering, Data Visualization"
   ]
  },
  {
   "cell_type": "code",
   "execution_count": 3,
   "metadata": {
    "_cell_guid": "79c7e3d0-c299-4dcb-8224-4455121ee9b0",
    "_uuid": "d629ff2d2480ee46fbb7e2d37f6b5fab8052498a"
   },
   "outputs": [],
   "source": [
    "data = pd.read_csv('SolarPrediction.csv')"
   ]
  },
  {
   "cell_type": "code",
   "execution_count": 4,
   "metadata": {},
   "outputs": [
    {
     "data": {
      "text/html": [
       "<div>\n",
       "<style scoped>\n",
       "    .dataframe tbody tr th:only-of-type {\n",
       "        vertical-align: middle;\n",
       "    }\n",
       "\n",
       "    .dataframe tbody tr th {\n",
       "        vertical-align: top;\n",
       "    }\n",
       "\n",
       "    .dataframe thead th {\n",
       "        text-align: right;\n",
       "    }\n",
       "</style>\n",
       "<table border=\"1\" class=\"dataframe\">\n",
       "  <thead>\n",
       "    <tr style=\"text-align: right;\">\n",
       "      <th></th>\n",
       "      <th>UNIXTime</th>\n",
       "      <th>Data</th>\n",
       "      <th>Time</th>\n",
       "      <th>Radiation</th>\n",
       "      <th>Temperature</th>\n",
       "      <th>Pressure</th>\n",
       "      <th>Humidity</th>\n",
       "      <th>WindDirection(Degrees)</th>\n",
       "      <th>Speed</th>\n",
       "      <th>TimeSunRise</th>\n",
       "      <th>TimeSunSet</th>\n",
       "    </tr>\n",
       "  </thead>\n",
       "  <tbody>\n",
       "    <tr>\n",
       "      <th>0</th>\n",
       "      <td>1475229326</td>\n",
       "      <td>9/29/2016 12:00:00 AM</td>\n",
       "      <td>23:55:26</td>\n",
       "      <td>1.21</td>\n",
       "      <td>48</td>\n",
       "      <td>30.46</td>\n",
       "      <td>59</td>\n",
       "      <td>177.39</td>\n",
       "      <td>5.62</td>\n",
       "      <td>06:13:00</td>\n",
       "      <td>18:13:00</td>\n",
       "    </tr>\n",
       "    <tr>\n",
       "      <th>1</th>\n",
       "      <td>1475229023</td>\n",
       "      <td>9/29/2016 12:00:00 AM</td>\n",
       "      <td>23:50:23</td>\n",
       "      <td>1.21</td>\n",
       "      <td>48</td>\n",
       "      <td>30.46</td>\n",
       "      <td>58</td>\n",
       "      <td>176.78</td>\n",
       "      <td>3.37</td>\n",
       "      <td>06:13:00</td>\n",
       "      <td>18:13:00</td>\n",
       "    </tr>\n",
       "    <tr>\n",
       "      <th>2</th>\n",
       "      <td>1475228726</td>\n",
       "      <td>9/29/2016 12:00:00 AM</td>\n",
       "      <td>23:45:26</td>\n",
       "      <td>1.23</td>\n",
       "      <td>48</td>\n",
       "      <td>30.46</td>\n",
       "      <td>57</td>\n",
       "      <td>158.75</td>\n",
       "      <td>3.37</td>\n",
       "      <td>06:13:00</td>\n",
       "      <td>18:13:00</td>\n",
       "    </tr>\n",
       "    <tr>\n",
       "      <th>3</th>\n",
       "      <td>1475228421</td>\n",
       "      <td>9/29/2016 12:00:00 AM</td>\n",
       "      <td>23:40:21</td>\n",
       "      <td>1.21</td>\n",
       "      <td>48</td>\n",
       "      <td>30.46</td>\n",
       "      <td>60</td>\n",
       "      <td>137.71</td>\n",
       "      <td>3.37</td>\n",
       "      <td>06:13:00</td>\n",
       "      <td>18:13:00</td>\n",
       "    </tr>\n",
       "    <tr>\n",
       "      <th>4</th>\n",
       "      <td>1475228124</td>\n",
       "      <td>9/29/2016 12:00:00 AM</td>\n",
       "      <td>23:35:24</td>\n",
       "      <td>1.17</td>\n",
       "      <td>48</td>\n",
       "      <td>30.46</td>\n",
       "      <td>62</td>\n",
       "      <td>104.95</td>\n",
       "      <td>5.62</td>\n",
       "      <td>06:13:00</td>\n",
       "      <td>18:13:00</td>\n",
       "    </tr>\n",
       "  </tbody>\n",
       "</table>\n",
       "</div>"
      ],
      "text/plain": [
       "     UNIXTime                   Data      Time  Radiation  Temperature  \\\n",
       "0  1475229326  9/29/2016 12:00:00 AM  23:55:26       1.21           48   \n",
       "1  1475229023  9/29/2016 12:00:00 AM  23:50:23       1.21           48   \n",
       "2  1475228726  9/29/2016 12:00:00 AM  23:45:26       1.23           48   \n",
       "3  1475228421  9/29/2016 12:00:00 AM  23:40:21       1.21           48   \n",
       "4  1475228124  9/29/2016 12:00:00 AM  23:35:24       1.17           48   \n",
       "\n",
       "   Pressure  Humidity  WindDirection(Degrees)  Speed TimeSunRise TimeSunSet  \n",
       "0     30.46        59                  177.39   5.62    06:13:00   18:13:00  \n",
       "1     30.46        58                  176.78   3.37    06:13:00   18:13:00  \n",
       "2     30.46        57                  158.75   3.37    06:13:00   18:13:00  \n",
       "3     30.46        60                  137.71   3.37    06:13:00   18:13:00  \n",
       "4     30.46        62                  104.95   5.62    06:13:00   18:13:00  "
      ]
     },
     "execution_count": 4,
     "metadata": {},
     "output_type": "execute_result"
    }
   ],
   "source": [
    "data.head()"
   ]
  },
  {
   "cell_type": "code",
   "execution_count": 5,
   "metadata": {},
   "outputs": [],
   "source": [
    "X = data.drop(['UNIXTime', 'Radiation'], axis=1)\n",
    "y = data['Radiation']"
   ]
  },
  {
   "cell_type": "markdown",
   "metadata": {},
   "source": [
    "# Time data engineering\n",
    "\n",
    "1. We begin our feature engineering by extracting the time and date out of our Data, TimeSunRise and TimeSunSet features.\n",
    "1. Firstly, the minute of TimeSunRise feature is pulled out and then the minute and hour of TimeSunSet is found."
   ]
  },
  {
   "cell_type": "code",
   "execution_count": 6,
   "metadata": {},
   "outputs": [],
   "source": [
    "X['TSR_Minute'] = pd.to_datetime(X['TimeSunRise']).dt.minute\n",
    "X['TSS_Minute'] = pd.to_datetime(X['TimeSunSet']).dt.minute\n",
    "X['TSS_Hour'] = np.where(pd.to_datetime(X['TimeSunSet']).dt.hour==18, 1, 0)"
   ]
  },
  {
   "cell_type": "markdown",
   "metadata": {},
   "source": [
    "Then, the month and day are taken out of Data and the hour, minute and second out of Time."
   ]
  },
  {
   "cell_type": "code",
   "execution_count": 7,
   "metadata": {},
   "outputs": [],
   "source": [
    "time = np.array([])\n",
    "\n",
    "for i in X['Data']:\n",
    "    splt = i.split()\n",
    "    time = np.append(time, splt[0])\n",
    "    \n",
    "X['Month'] = pd.to_datetime(X['Data']).dt.month\n",
    "X['Day'] = pd.to_datetime(X['Data']).dt.day"
   ]
  },
  {
   "cell_type": "code",
   "execution_count": 8,
   "metadata": {},
   "outputs": [],
   "source": [
    "X['Hour'] = pd.to_datetime(X['Time']).dt.hour\n",
    "X['Minute'] = pd.to_datetime(X['Time']).dt.minute\n",
    "X['Second'] = pd.to_datetime(X['Time']).dt.second"
   ]
  },
  {
   "cell_type": "markdown",
   "metadata": {},
   "source": [
    "Here is a graph showing how many days were recorded throughout our dataset."
   ]
  },
  {
   "cell_type": "code",
   "execution_count": 9,
   "metadata": {},
   "outputs": [
    {
     "data": {
      "image/png": "[encoded data removed]",
      "text/plain": [
       "<Figure size 1440x504 with 1 Axes>"
      ]
     },
     "metadata": {
      "needs_background": "light"
     },
     "output_type": "display_data"
    }
   ],
   "source": [
    "count = Counter(time)\n",
    "plt.figure(figsize=(20, 7))\n",
    "plt.bar(count.keys(), count.values(), color='purple')\n",
    "plt.xticks([])\n",
    "plt.xlabel('Days in the year')\n",
    "plt.ylabel('Number of days recorded')\n",
    "plt.title('The amount of days recorded')\n",
    "plt.show()"
   ]
  },
  {
   "cell_type": "markdown",
   "metadata": {},
   "source": [
    "# Feature transformation"
   ]
  },
  {
   "cell_type": "markdown",
   "metadata": {},
   "source": [
    "The next step is to use transformations on our dataset.\n",
    "\n",
    "This is a visualisation of the distribution of the different features compared to them being transformed with Log, BoxCox, Standard Scaler and MinMax Scaler."
   ]
  },
  {
   "cell_type": "code",
   "execution_count": 10,
   "metadata": {},
   "outputs": [
    {
     "data": {
      "image/png": "[encoded data removed]",
      "text/plain": [
       "<Figure size 720x360 with 5 Axes>"
      ]
     },
     "metadata": {
      "needs_background": "light"
     },
     "output_type": "display_data"
    },
    {
     "data": {
      "image/png": "[encoded data removed]",
      "text/plain": [
       "<Figure size 720x360 with 5 Axes>"
      ]
     },
     "metadata": {
      "needs_background": "light"
     },
     "output_type": "display_data"
    },
    {
     "data": {
      "image/png": "[encoded data removed]",
      "text/plain": [
       "<Figure size 720x360 with 5 Axes>"
      ]
     },
     "metadata": {
      "needs_background": "light"
     },
     "output_type": "display_data"
    },
    {
     "data": {
      "image/png": "[encoded data removed]",
      "text/plain": [
       "<Figure size 720x360 with 5 Axes>"
      ]
     },
     "metadata": {
      "needs_background": "light"
     },
     "output_type": "display_data"
    },
    {
     "data": {
      "image/png": "[encoded data removed]",
      "text/plain": [
       "<Figure size 720x360 with 5 Axes>"
      ]
     },
     "metadata": {
      "needs_background": "light"
     },
     "output_type": "display_data"
    }
   ],
   "source": [
    "norm = {'Temperature' : (X['Temperature']+1).transform(np.log), \n",
    "        'Humidity' : stats.boxcox(X['Humidity']+1)[0], 'Speed' : (X['Speed']+1).transform(np.log), \n",
    "        'WindDirection(Degrees)' : MinMaxScaler().fit_transform(np.array(X['WindDirection(Degrees)']).reshape(-1, 1)),\n",
    "        'TSS_Minute' : stats.boxcox(X['TSS_Minute']+1)[0]}\n",
    "\n",
    "for i in norm:\n",
    "    b=50\n",
    "    fig, (ax1, ax2, ax3, ax4, ax5) = plt.subplots(5, 1, figsize=(10, 5))\n",
    "    pd.DataFrame(X[i]).hist(ax=ax1, bins=b)\n",
    "    pd.DataFrame((X[i]+1).transform(np.log)).hist(ax=ax2, bins=b)\n",
    "    pd.DataFrame(stats.boxcox(X[i]+1)[0]).hist(ax=ax3, bins=b)\n",
    "    \n",
    "    pd.DataFrame(StandardScaler().fit_transform(np.array(X[i]).reshape(-1, 1))).hist(ax=ax4, bins=b)\n",
    "    pd.DataFrame(MinMaxScaler().fit_transform(np.array(X[i]).reshape(-1, 1))).hist(ax=ax5, bins=b)\n",
    "    \n",
    "    ax1.set_ylabel('Normal')\n",
    "    ax2.set_ylabel('Log')\n",
    "    ax3.set_ylabel('Box Cox')\n",
    "    ax4.set_ylabel('Standard')\n",
    "    ax5.set_ylabel('MinMax')\n",
    "    \n",
    "    X[i] = norm[i]"
   ]
  },
  {
   "cell_type": "markdown",
   "metadata": {},
   "source": [
    "# Drop Unnecessries data"
   ]
  },
  {
   "cell_type": "code",
   "execution_count": 11,
   "metadata": {},
   "outputs": [],
   "source": [
    "X = X.drop(['Data', 'Time', 'TimeSunRise', 'TimeSunSet'], axis=1)"
   ]
  },
  {
   "cell_type": "code",
   "execution_count": 12,
   "metadata": {},
   "outputs": [
    {
     "data": {
      "text/html": [
       "<div>\n",
       "<style scoped>\n",
       "    .dataframe tbody tr th:only-of-type {\n",
       "        vertical-align: middle;\n",
       "    }\n",
       "\n",
       "    .dataframe tbody tr th {\n",
       "        vertical-align: top;\n",
       "    }\n",
       "\n",
       "    .dataframe thead th {\n",
       "        text-align: right;\n",
       "    }\n",
       "</style>\n",
       "<table border=\"1\" class=\"dataframe\">\n",
       "  <thead>\n",
       "    <tr style=\"text-align: right;\">\n",
       "      <th></th>\n",
       "      <th>Temperature</th>\n",
       "      <th>Pressure</th>\n",
       "      <th>Humidity</th>\n",
       "      <th>WindDirection(Degrees)</th>\n",
       "      <th>Speed</th>\n",
       "      <th>TSR_Minute</th>\n",
       "      <th>TSS_Minute</th>\n",
       "      <th>TSS_Hour</th>\n",
       "      <th>Month</th>\n",
       "      <th>Day</th>\n",
       "      <th>Hour</th>\n",
       "      <th>Minute</th>\n",
       "      <th>Second</th>\n",
       "    </tr>\n",
       "  </thead>\n",
       "  <tbody>\n",
       "    <tr>\n",
       "      <th>0</th>\n",
       "      <td>3.89182</td>\n",
       "      <td>30.46</td>\n",
       "      <td>1139.358665</td>\n",
       "      <td>0.492692</td>\n",
       "      <td>1.890095</td>\n",
       "      <td>13</td>\n",
       "      <td>32.81851</td>\n",
       "      <td>1</td>\n",
       "      <td>9</td>\n",
       "      <td>29</td>\n",
       "      <td>23</td>\n",
       "      <td>55</td>\n",
       "      <td>26</td>\n",
       "    </tr>\n",
       "    <tr>\n",
       "      <th>1</th>\n",
       "      <td>3.89182</td>\n",
       "      <td>30.46</td>\n",
       "      <td>1104.046980</td>\n",
       "      <td>0.490996</td>\n",
       "      <td>1.474763</td>\n",
       "      <td>13</td>\n",
       "      <td>32.81851</td>\n",
       "      <td>1</td>\n",
       "      <td>9</td>\n",
       "      <td>29</td>\n",
       "      <td>23</td>\n",
       "      <td>50</td>\n",
       "      <td>23</td>\n",
       "    </tr>\n",
       "    <tr>\n",
       "      <th>2</th>\n",
       "      <td>3.89182</td>\n",
       "      <td>30.46</td>\n",
       "      <td>1069.253545</td>\n",
       "      <td>0.440894</td>\n",
       "      <td>1.474763</td>\n",
       "      <td>13</td>\n",
       "      <td>32.81851</td>\n",
       "      <td>1</td>\n",
       "      <td>9</td>\n",
       "      <td>29</td>\n",
       "      <td>23</td>\n",
       "      <td>45</td>\n",
       "      <td>26</td>\n",
       "    </tr>\n",
       "    <tr>\n",
       "      <th>3</th>\n",
       "      <td>3.89182</td>\n",
       "      <td>30.46</td>\n",
       "      <td>1175.187489</td>\n",
       "      <td>0.382426</td>\n",
       "      <td>1.474763</td>\n",
       "      <td>13</td>\n",
       "      <td>32.81851</td>\n",
       "      <td>1</td>\n",
       "      <td>9</td>\n",
       "      <td>29</td>\n",
       "      <td>23</td>\n",
       "      <td>40</td>\n",
       "      <td>21</td>\n",
       "    </tr>\n",
       "    <tr>\n",
       "      <th>4</th>\n",
       "      <td>3.89182</td>\n",
       "      <td>30.46</td>\n",
       "      <td>1248.392213</td>\n",
       "      <td>0.291391</td>\n",
       "      <td>1.890095</td>\n",
       "      <td>13</td>\n",
       "      <td>32.81851</td>\n",
       "      <td>1</td>\n",
       "      <td>9</td>\n",
       "      <td>29</td>\n",
       "      <td>23</td>\n",
       "      <td>35</td>\n",
       "      <td>24</td>\n",
       "    </tr>\n",
       "  </tbody>\n",
       "</table>\n",
       "</div>"
      ],
      "text/plain": [
       "   Temperature  Pressure     Humidity  WindDirection(Degrees)     Speed  \\\n",
       "0      3.89182     30.46  1139.358665                0.492692  1.890095   \n",
       "1      3.89182     30.46  1104.046980                0.490996  1.474763   \n",
       "2      3.89182     30.46  1069.253545                0.440894  1.474763   \n",
       "3      3.89182     30.46  1175.187489                0.382426  1.474763   \n",
       "4      3.89182     30.46  1248.392213                0.291391  1.890095   \n",
       "\n",
       "   TSR_Minute  TSS_Minute  TSS_Hour  Month  Day  Hour  Minute  Second  \n",
       "0          13    32.81851         1      9   29    23      55      26  \n",
       "1          13    32.81851         1      9   29    23      50      23  \n",
       "2          13    32.81851         1      9   29    23      45      26  \n",
       "3          13    32.81851         1      9   29    23      40      21  \n",
       "4          13    32.81851         1      9   29    23      35      24  "
      ]
     },
     "execution_count": 12,
     "metadata": {},
     "output_type": "execute_result"
    }
   ],
   "source": [
    "X.head()"
   ]
  },
  {
   "cell_type": "markdown",
   "metadata": {},
   "source": [
    "# Binning"
   ]
  },
  {
   "cell_type": "markdown",
   "metadata": {},
   "source": [
    "The last piece of feature engineering with the X and y variables is to bin the WindDirection, TimeSunSet Minute and Humidity features."
   ]
  },
  {
   "cell_type": "code",
   "execution_count": 13,
   "metadata": {},
   "outputs": [],
   "source": [
    "X['WindDirection(Degrees)_bin'] = np.digitize(X['WindDirection(Degrees)'], np.arange(0.0, 1.0, 0.02).tolist())\n",
    "X['TSS_Minute_bin'] = np.digitize(X['TSS_Minute'], np.arange(0.0, 288.0, 12).tolist())\n",
    "X['Humidity_bin'] = np.digitize(X['Humidity'], np.arange(32, 3192, 128).tolist())"
   ]
  },
  {
   "cell_type": "markdown",
   "metadata": {},
   "source": [
    "# The following graphs are visualisations showing the distribution of the data we recorded."
   ]
  },
  {
   "cell_type": "code",
   "execution_count": 14,
   "metadata": {},
   "outputs": [
    {
     "data": {
      "image/png": "[encoded data removed]",
      "text/plain": [
       "<Figure size 432x288 with 1 Axes>"
      ]
     },
     "metadata": {
      "needs_background": "light"
     },
     "output_type": "display_data"
    },
    {
     "data": {
      "image/png": "[encoded data removed]",
      "text/plain": [
       "<Figure size 432x288 with 1 Axes>"
      ]
     },
     "metadata": {
      "needs_background": "light"
     },
     "output_type": "display_data"
    },
    {
     "data": {
      "image/png": "[encoded data removed]",
      "text/plain": [
       "<Figure size 432x288 with 1 Axes>"
      ]
     },
     "metadata": {
      "needs_background": "light"
     },
     "output_type": "display_data"
    }
   ],
   "source": [
    "feats = {'WindDirection(Degrees)_bin':'blue', 'TSS_Minute_bin':'red', 'Humidity_bin':'green'}\n",
    "for i in feats:\n",
    "    count = Counter(X[i])\n",
    "    plt.bar(count.keys(), count.values(), color=feats[i])\n",
    "    plt.title('Distribution')\n",
    "    plt.ylabel('Occurrence')\n",
    "    plt.xlabel(i)\n",
    "    plt.show()"
   ]
  },
  {
   "cell_type": "code",
   "execution_count": 15,
   "metadata": {},
   "outputs": [
    {
     "data": {
      "text/html": [
       "<div>\n",
       "<style scoped>\n",
       "    .dataframe tbody tr th:only-of-type {\n",
       "        vertical-align: middle;\n",
       "    }\n",
       "\n",
       "    .dataframe tbody tr th {\n",
       "        vertical-align: top;\n",
       "    }\n",
       "\n",
       "    .dataframe thead th {\n",
       "        text-align: right;\n",
       "    }\n",
       "</style>\n",
       "<table border=\"1\" class=\"dataframe\">\n",
       "  <thead>\n",
       "    <tr style=\"text-align: right;\">\n",
       "      <th></th>\n",
       "      <th>Temperature</th>\n",
       "      <th>Pressure</th>\n",
       "      <th>Humidity</th>\n",
       "      <th>WindDirection(Degrees)</th>\n",
       "      <th>Speed</th>\n",
       "      <th>TSR_Minute</th>\n",
       "      <th>TSS_Minute</th>\n",
       "      <th>TSS_Hour</th>\n",
       "      <th>Month</th>\n",
       "      <th>Day</th>\n",
       "      <th>Hour</th>\n",
       "      <th>Minute</th>\n",
       "      <th>Second</th>\n",
       "      <th>WindDirection(Degrees)_bin</th>\n",
       "      <th>TSS_Minute_bin</th>\n",
       "      <th>Humidity_bin</th>\n",
       "    </tr>\n",
       "  </thead>\n",
       "  <tbody>\n",
       "    <tr>\n",
       "      <th>0</th>\n",
       "      <td>3.89182</td>\n",
       "      <td>30.46</td>\n",
       "      <td>1139.358665</td>\n",
       "      <td>0.492692</td>\n",
       "      <td>1.890095</td>\n",
       "      <td>13</td>\n",
       "      <td>32.81851</td>\n",
       "      <td>1</td>\n",
       "      <td>9</td>\n",
       "      <td>29</td>\n",
       "      <td>23</td>\n",
       "      <td>55</td>\n",
       "      <td>26</td>\n",
       "      <td>25</td>\n",
       "      <td>3</td>\n",
       "      <td>9</td>\n",
       "    </tr>\n",
       "    <tr>\n",
       "      <th>1</th>\n",
       "      <td>3.89182</td>\n",
       "      <td>30.46</td>\n",
       "      <td>1104.046980</td>\n",
       "      <td>0.490996</td>\n",
       "      <td>1.474763</td>\n",
       "      <td>13</td>\n",
       "      <td>32.81851</td>\n",
       "      <td>1</td>\n",
       "      <td>9</td>\n",
       "      <td>29</td>\n",
       "      <td>23</td>\n",
       "      <td>50</td>\n",
       "      <td>23</td>\n",
       "      <td>25</td>\n",
       "      <td>3</td>\n",
       "      <td>9</td>\n",
       "    </tr>\n",
       "    <tr>\n",
       "      <th>2</th>\n",
       "      <td>3.89182</td>\n",
       "      <td>30.46</td>\n",
       "      <td>1069.253545</td>\n",
       "      <td>0.440894</td>\n",
       "      <td>1.474763</td>\n",
       "      <td>13</td>\n",
       "      <td>32.81851</td>\n",
       "      <td>1</td>\n",
       "      <td>9</td>\n",
       "      <td>29</td>\n",
       "      <td>23</td>\n",
       "      <td>45</td>\n",
       "      <td>26</td>\n",
       "      <td>23</td>\n",
       "      <td>3</td>\n",
       "      <td>9</td>\n",
       "    </tr>\n",
       "    <tr>\n",
       "      <th>3</th>\n",
       "      <td>3.89182</td>\n",
       "      <td>30.46</td>\n",
       "      <td>1175.187489</td>\n",
       "      <td>0.382426</td>\n",
       "      <td>1.474763</td>\n",
       "      <td>13</td>\n",
       "      <td>32.81851</td>\n",
       "      <td>1</td>\n",
       "      <td>9</td>\n",
       "      <td>29</td>\n",
       "      <td>23</td>\n",
       "      <td>40</td>\n",
       "      <td>21</td>\n",
       "      <td>20</td>\n",
       "      <td>3</td>\n",
       "      <td>9</td>\n",
       "    </tr>\n",
       "    <tr>\n",
       "      <th>4</th>\n",
       "      <td>3.89182</td>\n",
       "      <td>30.46</td>\n",
       "      <td>1248.392213</td>\n",
       "      <td>0.291391</td>\n",
       "      <td>1.890095</td>\n",
       "      <td>13</td>\n",
       "      <td>32.81851</td>\n",
       "      <td>1</td>\n",
       "      <td>9</td>\n",
       "      <td>29</td>\n",
       "      <td>23</td>\n",
       "      <td>35</td>\n",
       "      <td>24</td>\n",
       "      <td>15</td>\n",
       "      <td>3</td>\n",
       "      <td>10</td>\n",
       "    </tr>\n",
       "  </tbody>\n",
       "</table>\n",
       "</div>"
      ],
      "text/plain": [
       "   Temperature  Pressure     Humidity  WindDirection(Degrees)     Speed  \\\n",
       "0      3.89182     30.46  1139.358665                0.492692  1.890095   \n",
       "1      3.89182     30.46  1104.046980                0.490996  1.474763   \n",
       "2      3.89182     30.46  1069.253545                0.440894  1.474763   \n",
       "3      3.89182     30.46  1175.187489                0.382426  1.474763   \n",
       "4      3.89182     30.46  1248.392213                0.291391  1.890095   \n",
       "\n",
       "   TSR_Minute  TSS_Minute  TSS_Hour  Month  Day  Hour  Minute  Second  \\\n",
       "0          13    32.81851         1      9   29    23      55      26   \n",
       "1          13    32.81851         1      9   29    23      50      23   \n",
       "2          13    32.81851         1      9   29    23      45      26   \n",
       "3          13    32.81851         1      9   29    23      40      21   \n",
       "4          13    32.81851         1      9   29    23      35      24   \n",
       "\n",
       "   WindDirection(Degrees)_bin  TSS_Minute_bin  Humidity_bin  \n",
       "0                          25               3             9  \n",
       "1                          25               3             9  \n",
       "2                          23               3             9  \n",
       "3                          20               3             9  \n",
       "4                          15               3            10  "
      ]
     },
     "execution_count": 15,
     "metadata": {},
     "output_type": "execute_result"
    }
   ],
   "source": [
    "X.head()"
   ]
  },
  {
   "cell_type": "markdown",
   "metadata": {},
   "source": [
    "# This is the correlation of all the variables in our dataset"
   ]
  },
  {
   "cell_type": "code",
   "execution_count": 16,
   "metadata": {},
   "outputs": [
    {
     "data": {
      "image/png": "[encoded data removed]",
      "text/plain": [
       "<Figure size 432x288 with 2 Axes>"
      ]
     },
     "metadata": {
      "needs_background": "light"
     },
     "output_type": "display_data"
    }
   ],
   "source": [
    "sns.heatmap(X.corr())\n",
    "plt.show()"
   ]
  },
  {
   "cell_type": "code",
   "execution_count": 17,
   "metadata": {},
   "outputs": [
    {
     "data": {
      "text/html": [
       "<div>\n",
       "<style scoped>\n",
       "    .dataframe tbody tr th:only-of-type {\n",
       "        vertical-align: middle;\n",
       "    }\n",
       "\n",
       "    .dataframe tbody tr th {\n",
       "        vertical-align: top;\n",
       "    }\n",
       "\n",
       "    .dataframe thead th {\n",
       "        text-align: right;\n",
       "    }\n",
       "</style>\n",
       "<table border=\"1\" class=\"dataframe\">\n",
       "  <thead>\n",
       "    <tr style=\"text-align: right;\">\n",
       "      <th></th>\n",
       "      <th>Temperature</th>\n",
       "      <th>Pressure</th>\n",
       "      <th>Humidity</th>\n",
       "      <th>WindDirection(Degrees)</th>\n",
       "      <th>Speed</th>\n",
       "      <th>TSR_Minute</th>\n",
       "      <th>TSS_Minute</th>\n",
       "      <th>TSS_Hour</th>\n",
       "      <th>Month</th>\n",
       "      <th>Day</th>\n",
       "      <th>Hour</th>\n",
       "      <th>Minute</th>\n",
       "      <th>Second</th>\n",
       "      <th>WindDirection(Degrees)_bin</th>\n",
       "      <th>TSS_Minute_bin</th>\n",
       "      <th>Humidity_bin</th>\n",
       "    </tr>\n",
       "  </thead>\n",
       "  <tbody>\n",
       "    <tr>\n",
       "      <th>count</th>\n",
       "      <td>32686.000000</td>\n",
       "      <td>32686.000000</td>\n",
       "      <td>32686.000000</td>\n",
       "      <td>32686.000000</td>\n",
       "      <td>32686.000000</td>\n",
       "      <td>32686.000000</td>\n",
       "      <td>32686.000000</td>\n",
       "      <td>32686.000000</td>\n",
       "      <td>32686.000000</td>\n",
       "      <td>32686.000000</td>\n",
       "      <td>32686.000000</td>\n",
       "      <td>32686.000000</td>\n",
       "      <td>32686.000000</td>\n",
       "      <td>32686.000000</td>\n",
       "      <td>32686.000000</td>\n",
       "      <td>32686.000000</td>\n",
       "    </tr>\n",
       "    <tr>\n",
       "      <th>mean</th>\n",
       "      <td>3.946313</td>\n",
       "      <td>30.422879</td>\n",
       "      <td>1946.794322</td>\n",
       "      <td>0.398488</td>\n",
       "      <td>1.859223</td>\n",
       "      <td>27.640519</td>\n",
       "      <td>157.988841</td>\n",
       "      <td>0.347886</td>\n",
       "      <td>10.526066</td>\n",
       "      <td>15.825766</td>\n",
       "      <td>11.557425</td>\n",
       "      <td>27.556691</td>\n",
       "      <td>17.441902</td>\n",
       "      <td>20.421098</td>\n",
       "      <td>13.691489</td>\n",
       "      <td>15.450805</td>\n",
       "    </tr>\n",
       "    <tr>\n",
       "      <th>std</th>\n",
       "      <td>0.117019</td>\n",
       "      <td>0.054673</td>\n",
       "      <td>1007.881696</td>\n",
       "      <td>0.231111</td>\n",
       "      <td>0.520981</td>\n",
       "      <td>15.518714</td>\n",
       "      <td>80.819626</td>\n",
       "      <td>0.476307</td>\n",
       "      <td>1.096691</td>\n",
       "      <td>8.711824</td>\n",
       "      <td>6.912034</td>\n",
       "      <td>17.268507</td>\n",
       "      <td>12.951109</td>\n",
       "      <td>11.532145</td>\n",
       "      <td>6.720589</td>\n",
       "      <td>7.879532</td>\n",
       "    </tr>\n",
       "    <tr>\n",
       "      <th>min</th>\n",
       "      <td>3.555348</td>\n",
       "      <td>30.190000</td>\n",
       "      <td>32.143940</td>\n",
       "      <td>0.000000</td>\n",
       "      <td>0.000000</td>\n",
       "      <td>7.000000</td>\n",
       "      <td>0.000000</td>\n",
       "      <td>0.000000</td>\n",
       "      <td>9.000000</td>\n",
       "      <td>1.000000</td>\n",
       "      <td>0.000000</td>\n",
       "      <td>0.000000</td>\n",
       "      <td>0.000000</td>\n",
       "      <td>1.000000</td>\n",
       "      <td>1.000000</td>\n",
       "      <td>1.000000</td>\n",
       "    </tr>\n",
       "    <tr>\n",
       "      <th>25%</th>\n",
       "      <td>3.850148</td>\n",
       "      <td>30.400000</td>\n",
       "      <td>1034.979494</td>\n",
       "      <td>0.228248</td>\n",
       "      <td>1.474763</td>\n",
       "      <td>14.000000</td>\n",
       "      <td>87.790602</td>\n",
       "      <td>0.000000</td>\n",
       "      <td>10.000000</td>\n",
       "      <td>9.000000</td>\n",
       "      <td>6.000000</td>\n",
       "      <td>15.000000</td>\n",
       "      <td>5.000000</td>\n",
       "      <td>12.000000</td>\n",
       "      <td>8.000000</td>\n",
       "      <td>8.000000</td>\n",
       "    </tr>\n",
       "    <tr>\n",
       "      <th>50%</th>\n",
       "      <td>3.931826</td>\n",
       "      <td>30.430000</td>\n",
       "      <td>2236.092852</td>\n",
       "      <td>0.410187</td>\n",
       "      <td>1.890095</td>\n",
       "      <td>24.000000</td>\n",
       "      <td>181.468050</td>\n",
       "      <td>0.000000</td>\n",
       "      <td>11.000000</td>\n",
       "      <td>16.000000</td>\n",
       "      <td>12.000000</td>\n",
       "      <td>30.000000</td>\n",
       "      <td>18.000000</td>\n",
       "      <td>21.000000</td>\n",
       "      <td>16.000000</td>\n",
       "      <td>18.000000</td>\n",
       "    </tr>\n",
       "    <tr>\n",
       "      <th>75%</th>\n",
       "      <td>4.025352</td>\n",
       "      <td>30.460000</td>\n",
       "      <td>2855.773244</td>\n",
       "      <td>0.498027</td>\n",
       "      <td>2.182675</td>\n",
       "      <td>40.000000</td>\n",
       "      <td>212.893273</td>\n",
       "      <td>1.000000</td>\n",
       "      <td>11.000000</td>\n",
       "      <td>23.000000</td>\n",
       "      <td>18.000000</td>\n",
       "      <td>45.000000</td>\n",
       "      <td>22.000000</td>\n",
       "      <td>25.000000</td>\n",
       "      <td>18.000000</td>\n",
       "      <td>23.000000</td>\n",
       "    </tr>\n",
       "    <tr>\n",
       "      <th>max</th>\n",
       "      <td>4.276666</td>\n",
       "      <td>30.560000</td>\n",
       "      <td>3191.915065</td>\n",
       "      <td>1.000000</td>\n",
       "      <td>3.725693</td>\n",
       "      <td>57.000000</td>\n",
       "      <td>287.465729</td>\n",
       "      <td>1.000000</td>\n",
       "      <td>12.000000</td>\n",
       "      <td>31.000000</td>\n",
       "      <td>23.000000</td>\n",
       "      <td>57.000000</td>\n",
       "      <td>59.000000</td>\n",
       "      <td>50.000000</td>\n",
       "      <td>24.000000</td>\n",
       "      <td>25.000000</td>\n",
       "    </tr>\n",
       "  </tbody>\n",
       "</table>\n",
       "</div>"
      ],
      "text/plain": [
       "        Temperature      Pressure      Humidity  WindDirection(Degrees)  \\\n",
       "count  32686.000000  32686.000000  32686.000000            32686.000000   \n",
       "mean       3.946313     30.422879   1946.794322                0.398488   \n",
       "std        0.117019      0.054673   1007.881696                0.231111   \n",
       "min        3.555348     30.190000     32.143940                0.000000   \n",
       "25%        3.850148     30.400000   1034.979494                0.228248   \n",
       "50%        3.931826     30.430000   2236.092852                0.410187   \n",
       "75%        4.025352     30.460000   2855.773244                0.498027   \n",
       "max        4.276666     30.560000   3191.915065                1.000000   \n",
       "\n",
       "              Speed    TSR_Minute    TSS_Minute      TSS_Hour         Month  \\\n",
       "count  32686.000000  32686.000000  32686.000000  32686.000000  32686.000000   \n",
       "mean       1.859223     27.640519    157.988841      0.347886     10.526066   \n",
       "std        0.520981     15.518714     80.819626      0.476307      1.096691   \n",
       "min        0.000000      7.000000      0.000000      0.000000      9.000000   \n",
       "25%        1.474763     14.000000     87.790602      0.000000     10.000000   \n",
       "50%        1.890095     24.000000    181.468050      0.000000     11.000000   \n",
       "75%        2.182675     40.000000    212.893273      1.000000     11.000000   \n",
       "max        3.725693     57.000000    287.465729      1.000000     12.000000   \n",
       "\n",
       "                Day          Hour        Minute        Second  \\\n",
       "count  32686.000000  32686.000000  32686.000000  32686.000000   \n",
       "mean      15.825766     11.557425     27.556691     17.441902   \n",
       "std        8.711824      6.912034     17.268507     12.951109   \n",
       "min        1.000000      0.000000      0.000000      0.000000   \n",
       "25%        9.000000      6.000000     15.000000      5.000000   \n",
       "50%       16.000000     12.000000     30.000000     18.000000   \n",
       "75%       23.000000     18.000000     45.000000     22.000000   \n",
       "max       31.000000     23.000000     57.000000     59.000000   \n",
       "\n",
       "       WindDirection(Degrees)_bin  TSS_Minute_bin  Humidity_bin  \n",
       "count                32686.000000    32686.000000  32686.000000  \n",
       "mean                    20.421098       13.691489     15.450805  \n",
       "std                     11.532145        6.720589      7.879532  \n",
       "min                      1.000000        1.000000      1.000000  \n",
       "25%                     12.000000        8.000000      8.000000  \n",
       "50%                     21.000000       16.000000     18.000000  \n",
       "75%                     25.000000       18.000000     23.000000  \n",
       "max                     50.000000       24.000000     25.000000  "
      ]
     },
     "execution_count": 17,
     "metadata": {},
     "output_type": "execute_result"
    }
   ],
   "source": [
    "X.describe()"
   ]
  },
  {
   "cell_type": "code",
   "execution_count": 18,
   "metadata": {},
   "outputs": [
    {
     "name": "stdout",
     "output_type": "stream",
     "text": [
      "<class 'pandas.core.frame.DataFrame'>\n",
      "RangeIndex: 32686 entries, 0 to 32685\n",
      "Data columns (total 16 columns):\n",
      " #   Column                      Non-Null Count  Dtype  \n",
      "---  ------                      --------------  -----  \n",
      " 0   Temperature                 32686 non-null  float64\n",
      " 1   Pressure                    32686 non-null  float64\n",
      " 2   Humidity                    32686 non-null  float64\n",
      " 3   WindDirection(Degrees)      32686 non-null  float64\n",
      " 4   Speed                       32686 non-null  float64\n",
      " 5   TSR_Minute                  32686 non-null  int64  \n",
      " 6   TSS_Minute                  32686 non-null  float64\n",
      " 7   TSS_Hour                    32686 non-null  int32  \n",
      " 8   Month                       32686 non-null  int64  \n",
      " 9   Day                         32686 non-null  int64  \n",
      " 10  Hour                        32686 non-null  int64  \n",
      " 11  Minute                      32686 non-null  int64  \n",
      " 12  Second                      32686 non-null  int64  \n",
      " 13  WindDirection(Degrees)_bin  32686 non-null  int64  \n",
      " 14  TSS_Minute_bin              32686 non-null  int64  \n",
      " 15  Humidity_bin                32686 non-null  int64  \n",
      "dtypes: float64(6), int32(1), int64(9)\n",
      "memory usage: 3.9 MB\n"
     ]
    }
   ],
   "source": [
    "X.info()"
   ]
  },
  {
   "cell_type": "markdown",
   "metadata": {},
   "source": [
    "# Data Spilt for model performance Analysis"
   ]
  },
  {
   "cell_type": "code",
   "execution_count": 19,
   "metadata": {},
   "outputs": [],
   "source": [
    "X_train, X_test, y_train, y_test = train_test_split(X, y, test_size=0.3, random_state=42)"
   ]
  },
  {
   "cell_type": "code",
   "execution_count": 20,
   "metadata": {},
   "outputs": [],
   "source": [
    "scaler = StandardScaler()\n",
    "X_train = scaler.fit_transform(X_train)\n",
    "X_test = scaler.transform(X_test)"
   ]
  },
  {
   "cell_type": "markdown",
   "metadata": {},
   "source": [
    "# Model training\n",
    "1. Finally, we have created a neural network which predicts the level of solar radiation."
   ]
  },
  {
   "cell_type": "markdown",
   "metadata": {},
   "source": [
    "# Artificial Neural Networks(ANNs)"
   ]
  },
  {
   "cell_type": "code",
   "execution_count": 21,
   "metadata": {},
   "outputs": [],
   "source": [
    "model = Sequential()\n",
    "    \n",
    "model.add(Dense(256, activation='relu', input_dim=16))\n",
    "model.add(Dropout(0.25))\n",
    "    \n",
    "model.add(Dense(128, activation='relu'))\n",
    "model.add(Dropout(0.25))\n",
    "\n",
    "model.add(Dense(64, activation='relu'))\n",
    "model.add(Dropout(0.4))\n",
    "\n",
    "model.add(Dense(1, activation='linear'))"
   ]
  },
  {
   "cell_type": "markdown",
   "metadata": {},
   "source": [
    "# Model Compile"
   ]
  },
  {
   "cell_type": "code",
   "execution_count": 22,
   "metadata": {},
   "outputs": [],
   "source": [
    "model.compile(metrics='mse',\n",
    "              loss='mae',\n",
    "              optimizer=Adam(learning_rate=0.003))\n"
   ]
  },
  {
   "cell_type": "markdown",
   "metadata": {},
   "source": [
    "# Model fit"
   ]
  },
  {
   "cell_type": "code",
   "execution_count": 23,
   "metadata": {},
   "outputs": [
    {
     "name": "stdout",
     "output_type": "stream",
     "text": [
      "Epoch 1/70\n",
      "358/358 [==============================] - 13s 5ms/step - loss: 99.2488 - mse: 38576.8906 - val_loss: 68.4233 - val_mse: 18618.8008\n",
      "Epoch 2/70\n",
      "358/358 [==============================] - 2s 4ms/step - loss: 72.1043 - mse: 20318.5195 - val_loss: 59.0729 - val_mse: 15033.8223\n",
      "Epoch 3/70\n",
      "358/358 [==============================] - 2s 5ms/step - loss: 67.7550 - mse: 18373.9238 - val_loss: 55.8090 - val_mse: 13656.1611\n",
      "Epoch 4/70\n",
      "358/358 [==============================] - 2s 5ms/step - loss: 63.4589 - mse: 16535.9375 - val_loss: 51.8801 - val_mse: 12449.7881\n",
      "Epoch 5/70\n",
      "358/358 [==============================] - 2s 5ms/step - loss: 62.1078 - mse: 16042.0293 - val_loss: 51.3836 - val_mse: 12577.4463\n",
      "Epoch 6/70\n",
      "358/358 [==============================] - 2s 5ms/step - loss: 60.8899 - mse: 15542.9961 - val_loss: 49.1456 - val_mse: 11862.8818\n",
      "Epoch 7/70\n",
      "358/358 [==============================] - 2s 5ms/step - loss: 61.0127 - mse: 15629.1816 - val_loss: 49.0101 - val_mse: 11847.9385\n",
      "Epoch 8/70\n",
      "358/358 [==============================] - 2s 5ms/step - loss: 59.4097 - mse: 14976.9570 - val_loss: 47.3692 - val_mse: 11321.9648\n",
      "Epoch 9/70\n",
      "358/358 [==============================] - 2s 4ms/step - loss: 59.2415 - mse: 15019.5088 - val_loss: 47.6724 - val_mse: 11360.6660\n",
      "Epoch 10/70\n",
      "358/358 [==============================] - 2s 5ms/step - loss: 58.2891 - mse: 14555.6699 - val_loss: 46.6839 - val_mse: 11162.2324\n",
      "Epoch 11/70\n",
      "358/358 [==============================] - 2s 5ms/step - loss: 57.4870 - mse: 14229.6074 - val_loss: 50.5446 - val_mse: 12154.6953\n",
      "Epoch 12/70\n",
      "358/358 [==============================] - 2s 5ms/step - loss: 57.5317 - mse: 14243.4014 - val_loss: 47.1237 - val_mse: 10913.4326\n",
      "Epoch 13/70\n",
      "358/358 [==============================] - 2s 5ms/step - loss: 57.0223 - mse: 14188.5117 - val_loss: 46.8018 - val_mse: 11396.4932\n",
      "Epoch 14/70\n",
      "358/358 [==============================] - 2s 5ms/step - loss: 56.8837 - mse: 14036.7959 - val_loss: 47.4107 - val_mse: 10846.2510\n",
      "Epoch 15/70\n",
      "358/358 [==============================] - 2s 5ms/step - loss: 57.3535 - mse: 14161.0137 - val_loss: 44.5567 - val_mse: 10581.6328\n",
      "Epoch 16/70\n",
      "358/358 [==============================] - 2s 5ms/step - loss: 55.3468 - mse: 13438.6562 - val_loss: 43.8165 - val_mse: 10536.6133\n",
      "Epoch 17/70\n",
      "358/358 [==============================] - 2s 5ms/step - loss: 55.5005 - mse: 13614.6338 - val_loss: 47.7432 - val_mse: 10730.1816\n",
      "Epoch 18/70\n",
      "358/358 [==============================] - 2s 5ms/step - loss: 55.6389 - mse: 13630.8447 - val_loss: 55.2490 - val_mse: 13512.2676\n",
      "Epoch 19/70\n",
      "358/358 [==============================] - 2s 5ms/step - loss: 55.3243 - mse: 13440.3301 - val_loss: 44.9983 - val_mse: 10557.2676\n",
      "Epoch 20/70\n",
      "358/358 [==============================] - 2s 5ms/step - loss: 55.4233 - mse: 13487.6865 - val_loss: 44.7937 - val_mse: 10323.7246\n",
      "Epoch 21/70\n",
      "358/358 [==============================] - 2s 4ms/step - loss: 56.0584 - mse: 13963.7227 - val_loss: 44.0858 - val_mse: 10326.3252\n",
      "Epoch 22/70\n",
      "358/358 [==============================] - 2s 5ms/step - loss: 55.7739 - mse: 13714.4209 - val_loss: 44.3423 - val_mse: 10457.7822\n",
      "Epoch 23/70\n",
      "358/358 [==============================] - 2s 5ms/step - loss: 54.4512 - mse: 12991.0586 - val_loss: 43.5436 - val_mse: 9924.2227\n",
      "Epoch 24/70\n",
      "358/358 [==============================] - 2s 5ms/step - loss: 54.4089 - mse: 13108.7080 - val_loss: 42.6045 - val_mse: 9895.4336\n",
      "Epoch 25/70\n",
      "358/358 [==============================] - 2s 5ms/step - loss: 53.6717 - mse: 13041.2646 - val_loss: 46.9267 - val_mse: 11055.9609\n",
      "Epoch 26/70\n",
      "358/358 [==============================] - 2s 6ms/step - loss: 54.0494 - mse: 13128.7500 - val_loss: 44.5321 - val_mse: 10450.3672\n",
      "Epoch 27/70\n",
      "358/358 [==============================] - 2s 5ms/step - loss: 53.5168 - mse: 12937.9248 - val_loss: 42.9242 - val_mse: 10165.8262\n",
      "Epoch 28/70\n",
      "358/358 [==============================] - 2s 5ms/step - loss: 53.6384 - mse: 12831.1445 - val_loss: 42.3093 - val_mse: 10018.3896\n",
      "Epoch 29/70\n",
      "358/358 [==============================] - 2s 5ms/step - loss: 54.0868 - mse: 12965.1455 - val_loss: 44.8743 - val_mse: 10350.1484\n",
      "Epoch 30/70\n",
      "358/358 [==============================] - 2s 5ms/step - loss: 53.7573 - mse: 13057.2627 - val_loss: 46.4634 - val_mse: 10736.9150\n",
      "Epoch 31/70\n",
      "358/358 [==============================] - 2s 5ms/step - loss: 53.5053 - mse: 12599.0576 - val_loss: 42.9958 - val_mse: 10106.1836\n",
      "Epoch 32/70\n",
      "358/358 [==============================] - 2s 5ms/step - loss: 52.6546 - mse: 12340.2402 - val_loss: 42.2964 - val_mse: 9895.2764\n",
      "Epoch 33/70\n",
      "358/358 [==============================] - 2s 4ms/step - loss: 52.6920 - mse: 12616.3496 - val_loss: 45.3255 - val_mse: 10245.8906\n",
      "Epoch 34/70\n",
      "358/358 [==============================] - 2s 4ms/step - loss: 52.4695 - mse: 12524.7500 - val_loss: 41.7791 - val_mse: 10271.0732\n",
      "Epoch 35/70\n",
      "358/358 [==============================] - 2s 5ms/step - loss: 52.1668 - mse: 12344.2236 - val_loss: 44.8556 - val_mse: 10218.0322\n",
      "Epoch 36/70\n",
      "358/358 [==============================] - 2s 5ms/step - loss: 52.4838 - mse: 12470.4521 - val_loss: 41.2725 - val_mse: 9638.9639\n",
      "Epoch 37/70\n",
      "358/358 [==============================] - 2s 4ms/step - loss: 51.9643 - mse: 12282.5664 - val_loss: 45.3293 - val_mse: 10562.8682\n",
      "Epoch 38/70\n",
      "358/358 [==============================] - 2s 5ms/step - loss: 51.4306 - mse: 12133.3525 - val_loss: 41.4907 - val_mse: 9852.2236\n",
      "Epoch 39/70\n",
      "358/358 [==============================] - 2s 5ms/step - loss: 51.1309 - mse: 12063.4023 - val_loss: 42.8005 - val_mse: 10123.7568\n",
      "Epoch 40/70\n",
      "358/358 [==============================] - 2s 5ms/step - loss: 51.2814 - mse: 12051.9639 - val_loss: 41.3609 - val_mse: 9867.6318\n",
      "Epoch 41/70\n",
      "358/358 [==============================] - 2s 4ms/step - loss: 50.9981 - mse: 11910.7832 - val_loss: 41.8342 - val_mse: 9836.5840\n",
      "Epoch 42/70\n",
      "358/358 [==============================] - 2s 4ms/step - loss: 51.0171 - mse: 11963.2041 - val_loss: 42.1742 - val_mse: 9869.5439\n",
      "Epoch 43/70\n",
      "358/358 [==============================] - 2s 5ms/step - loss: 51.1466 - mse: 12167.6445 - val_loss: 43.9647 - val_mse: 10409.2891\n",
      "Epoch 44/70\n",
      "358/358 [==============================] - 2s 5ms/step - loss: 50.9868 - mse: 12005.9580 - val_loss: 45.6304 - val_mse: 10431.2178\n",
      "Epoch 45/70\n",
      "358/358 [==============================] - 2s 5ms/step - loss: 50.9432 - mse: 12186.1523 - val_loss: 41.4211 - val_mse: 10027.0381\n",
      "Epoch 46/70\n",
      "358/358 [==============================] - 2s 5ms/step - loss: 50.4058 - mse: 11781.2812 - val_loss: 41.2678 - val_mse: 9819.2695\n",
      "Epoch 47/70\n",
      "358/358 [==============================] - 2s 4ms/step - loss: 50.5425 - mse: 11862.1885 - val_loss: 41.8416 - val_mse: 10061.3984\n",
      "Epoch 48/70\n",
      "358/358 [==============================] - 2s 5ms/step - loss: 49.9934 - mse: 11611.5850 - val_loss: 40.3940 - val_mse: 9288.8828\n",
      "Epoch 49/70\n",
      "358/358 [==============================] - 2s 5ms/step - loss: 50.2964 - mse: 11666.6641 - val_loss: 40.1978 - val_mse: 9320.5420\n",
      "Epoch 50/70\n",
      "358/358 [==============================] - 2s 5ms/step - loss: 49.3691 - mse: 11455.3496 - val_loss: 45.2639 - val_mse: 10189.0234\n",
      "Epoch 51/70\n",
      "358/358 [==============================] - 2s 5ms/step - loss: 49.4701 - mse: 11329.5576 - val_loss: 45.4063 - val_mse: 10483.9434\n",
      "Epoch 52/70\n",
      "358/358 [==============================] - 2s 5ms/step - loss: 49.4795 - mse: 11645.6494 - val_loss: 41.2350 - val_mse: 10036.8896\n",
      "Epoch 53/70\n",
      "358/358 [==============================] - 2s 5ms/step - loss: 48.7415 - mse: 11129.6172 - val_loss: 40.9688 - val_mse: 9564.6006\n",
      "Epoch 54/70\n",
      "358/358 [==============================] - 1s 4ms/step - loss: 49.3454 - mse: 11344.3506 - val_loss: 40.1456 - val_mse: 9413.3369\n",
      "Epoch 55/70\n",
      "358/358 [==============================] - 2s 5ms/step - loss: 48.8738 - mse: 11221.2188 - val_loss: 39.2886 - val_mse: 9171.1758\n",
      "Epoch 56/70\n",
      "358/358 [==============================] - 2s 5ms/step - loss: 49.3101 - mse: 11334.8076 - val_loss: 40.1169 - val_mse: 9300.0830\n",
      "Epoch 57/70\n",
      "358/358 [==============================] - 2s 5ms/step - loss: 49.2076 - mse: 11388.1445 - val_loss: 39.9966 - val_mse: 9534.6963\n",
      "Epoch 58/70\n",
      "358/358 [==============================] - 2s 5ms/step - loss: 49.1341 - mse: 11316.1904 - val_loss: 42.0472 - val_mse: 9695.0811\n",
      "Epoch 59/70\n",
      "358/358 [==============================] - 2s 5ms/step - loss: 48.7623 - mse: 11118.0566 - val_loss: 43.1263 - val_mse: 10313.6230\n",
      "Epoch 60/70\n",
      "358/358 [==============================] - 2s 4ms/step - loss: 49.1906 - mse: 11416.1504 - val_loss: 39.8715 - val_mse: 9389.5898\n",
      "Epoch 61/70\n",
      "358/358 [==============================] - 2s 5ms/step - loss: 48.8869 - mse: 11298.0566 - val_loss: 40.5035 - val_mse: 9501.9336\n",
      "Epoch 62/70\n",
      "358/358 [==============================] - 2s 5ms/step - loss: 48.3653 - mse: 10948.7920 - val_loss: 38.3775 - val_mse: 8954.8242\n",
      "Epoch 63/70\n",
      "358/358 [==============================] - 2s 5ms/step - loss: 48.4324 - mse: 11045.8359 - val_loss: 40.2059 - val_mse: 9188.4326\n",
      "Epoch 64/70\n",
      "358/358 [==============================] - 2s 5ms/step - loss: 48.8392 - mse: 11182.9443 - val_loss: 39.3768 - val_mse: 9275.8027\n",
      "Epoch 65/70\n",
      "358/358 [==============================] - 2s 5ms/step - loss: 48.5866 - mse: 11026.9180 - val_loss: 40.1609 - val_mse: 9368.1582\n",
      "Epoch 66/70\n",
      "358/358 [==============================] - 1s 4ms/step - loss: 48.1620 - mse: 10899.0635 - val_loss: 42.5088 - val_mse: 9725.5283\n",
      "Epoch 67/70\n",
      "358/358 [==============================] - 1s 4ms/step - loss: 48.0476 - mse: 10800.4297 - val_loss: 39.7586 - val_mse: 9304.2939\n",
      "Epoch 68/70\n",
      "358/358 [==============================] - 2s 5ms/step - loss: 47.9836 - mse: 10837.5176 - val_loss: 45.0480 - val_mse: 9835.6689\n",
      "Epoch 69/70\n",
      "358/358 [==============================] - 2s 5ms/step - loss: 48.0400 - mse: 10813.9980 - val_loss: 45.4120 - val_mse: 9925.9541\n",
      "Epoch 70/70\n",
      "358/358 [==============================] - 2s 5ms/step - loss: 47.5892 - mse: 10673.3926 - val_loss: 38.8860 - val_mse: 9013.4229\n"
     ]
    }
   ],
   "source": [
    "history = model.fit(X_train,\n",
    "                    y_train,\n",
    "                    validation_data=(X_test, y_test),\n",
    "                    epochs=70,\n",
    "                    batch_size=64)"
   ]
  },
  {
   "cell_type": "markdown",
   "metadata": {},
   "source": [
    " Below are the scores we have achieved for mean absolute error and mean squared error."
   ]
  },
  {
   "cell_type": "markdown",
   "metadata": {},
   "source": [
    "# Results"
   ]
  },
  {
   "cell_type": "code",
   "execution_count": 24,
   "metadata": {},
   "outputs": [
    {
     "name": "stdout",
     "output_type": "stream",
     "text": [
      "307/307 [==============================] - 1s 2ms/step - loss: 38.8860 - mse: 9013.4209\n",
      "Mean absolute error: 38.88597869873047. Mean squared error: 9013.4208984375.\n"
     ]
    }
   ],
   "source": [
    "fit = history.history\n",
    "scores = model.evaluate(X_test, y_test)\n",
    "mae = scores[0]\n",
    "mse = scores[1]\n",
    "print('Mean absolute error: ' + str(mae) + '. Mean squared error: ' + str(mse) + '.')\n",
    "\n"
   ]
  },
  {
   "cell_type": "code",
   "execution_count": 25,
   "metadata": {},
   "outputs": [
    {
     "data": {
      "image/png": "[encoded data removed]",
      "text/plain": [
       "<Figure size 432x288 with 1 Axes>"
      ]
     },
     "metadata": {
      "needs_background": "light"
     },
     "output_type": "display_data"
    },
    {
     "data": {
      "image/png": "[encoded data removed]",
      "text/plain": [
       "<Figure size 432x288 with 1 Axes>"
      ]
     },
     "metadata": {
      "needs_background": "light"
     },
     "output_type": "display_data"
    },
    {
     "data": {
      "image/png": "[encoded data removed]",
      "text/plain": [
       "<Figure size 432x288 with 1 Axes>"
      ]
     },
     "metadata": {
      "needs_background": "light"
     },
     "output_type": "display_data"
    },
    {
     "data": {
      "image/png": "[encoded data removed]",
      "text/plain": [
       "<Figure size 432x288 with 1 Axes>"
      ]
     },
     "metadata": {
      "needs_background": "light"
     },
     "output_type": "display_data"
    }
   ],
   "source": [
    "for i in fit:\n",
    "    plt.plot(fit[i])\n",
    "    plt.title(i + ' over epochs')\n",
    "    plt.ylabel(i)\n",
    "    plt.xlabel('epochs')\n",
    "    plt.show()"
   ]
  }
 ],
 "metadata": {
  "kernelspec": {
   "display_name": "Python 3 (ipykernel)",
   "language": "python",
   "name": "python3"
  },
  "language_info": {
   "codemirror_mode": {
    "name": "ipython",
    "version": 3
   },
   "file_extension": ".py",
   "mimetype": "text/x-python",
   "name": "python",
   "nbconvert_exporter": "python",
   "pygments_lexer": "ipython3",
   "version": "3.9.7"
  }
 },
 "nbformat": 4,
 "nbformat_minor": 4
}
